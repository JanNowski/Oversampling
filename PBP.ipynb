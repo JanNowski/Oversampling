{
 "cells": [
  {
   "cell_type": "code",
   "execution_count": 1,
   "metadata": {},
   "outputs": [],
   "source": [
    "import findspark\n",
    "findspark.init()\n",
    "\n",
    "import pyspark # only run after findspark.init()\n",
    "from pyspark.sql import SparkSession, Row, Column, SQLContext, DataFrame, DataFrameStatFunctions\n",
    "from pyspark.sql.functions import split\n",
    "from pyspark import SparkContext, SparkConf\n",
    "conf = SparkConf().setAppName(\"app1\").setMaster(\"local\")\n",
    "sc = SparkContext.getOrCreate(conf=conf)\n",
    "spark = SparkSession.builder.getOrCreate()\n",
    "sqlContext = SQLContext(sc)\n",
    "spark.conf.set(\"spark.sql.execution.arrow.enabled\", \"true\")"
   ]
  },
  {
   "cell_type": "code",
   "execution_count": 19,
   "metadata": {},
   "outputs": [],
   "source": [
    "from pyspark.sql.types import StructType, StructField, IntegerType, StringType, TimestampType, DoubleType\n",
    "\n",
    "import calendar\n",
    "from datetime import date,datetime\n",
    "import math\n",
    "from pyspark.sql.functions import date_format, lit\n",
    "\n",
    "import numpy as np\n",
    "from sklearn.preprocessing import StandardScaler\n",
    "from sklearn.preprocessing import LabelEncoder\n",
    "import pyarrow.parquet as pq\n",
    "import scipy.io\n",
    "import pandas as pd\n",
    "le = LabelEncoder()\n",
    "\n",
    "from sklearn.feature_selection import VarianceThreshold\n",
    "from skfeature.function.similarity_based import fisher_score\n",
    "from skfeature.utility import construct_W\n",
    "\n",
    "from imblearn.over_sampling import SMOTE, ADASYN, RandomOverSampler\n",
    "\n",
    "from sklearn.naive_bayes import GaussianNB,BernoulliNB,MultinomialNB\n",
    "from sklearn.neighbors import KNeighborsClassifier\n",
    "from sklearn.tree import DecisionTreeClassifier\n",
    "from sklearn.metrics import accuracy_score, precision_score, recall_score, roc_auc_score\n",
    "\n",
    "import time"
   ]
  },
  {
   "cell_type": "code",
   "execution_count": 3,
   "metadata": {},
   "outputs": [],
   "source": [
    "def two_class_feature_selection(variance, Xtrain, y, Xtest):   \n",
    "    score = fisher_score.fisher_score(Xtrain, y)\n",
    "    idx = fisher_score.feature_ranking(score)\n",
    "    features_number = len([i for i in range(len(idx)) if idx[i]==0])\n",
    "    Xfisher = Xtrain[:, idx[0:features_number]]\n",
    "    XtestFisher = Xtest[:, idx[0:features_number]]\n",
    "    #print(Xfisher.shape)\n",
    "    \n",
    "    sel = VarianceThreshold(threshold=variance)\n",
    "    Xvariance = sel.fit_transform(Xtrain)  \n",
    "    #print(Xvariance.shape)\n",
    "    XtestVariance = sel.transform(Xtest)\n",
    "    #print(XtestVariance.shape)\n",
    "    \n",
    "    return Xvariance,Xfisher,XtestVariance,XtestFisher"
   ]
  },
  {
   "cell_type": "code",
   "execution_count": 4,
   "metadata": {},
   "outputs": [],
   "source": [
    "wines = sqlContext.read.format('csv').options(header='true',delimiter=';',mode='DROPMALFORMED',inferSchema=True).load(\"winequality-white.csv\")"
   ]
  },
  {
   "cell_type": "code",
   "execution_count": 5,
   "metadata": {},
   "outputs": [
    {
     "name": "stdout",
     "output_type": "stream",
     "text": [
      "root\n",
      " |-- fixed acidity: double (nullable = true)\n",
      " |-- volatile acidity: double (nullable = true)\n",
      " |-- citric acid: double (nullable = true)\n",
      " |-- residual sugar: double (nullable = true)\n",
      " |-- chlorides: double (nullable = true)\n",
      " |-- free sulfur dioxide: double (nullable = true)\n",
      " |-- total sulfur dioxide: double (nullable = true)\n",
      " |-- density: double (nullable = true)\n",
      " |-- pH: double (nullable = true)\n",
      " |-- sulphates: double (nullable = true)\n",
      " |-- alcohol: double (nullable = true)\n",
      " |-- quality: integer (nullable = true)\n",
      "\n"
     ]
    }
   ],
   "source": [
    "wines.printSchema()"
   ]
  },
  {
   "cell_type": "code",
   "execution_count": 6,
   "metadata": {},
   "outputs": [],
   "source": [
    "wines = wines.withColumn(\"quality\", wines[\"quality\"].cast(StringType()))"
   ]
  },
  {
   "cell_type": "code",
   "execution_count": 7,
   "metadata": {},
   "outputs": [],
   "source": [
    "#wines.select(wines[\"*\"]).where(wines[\"quality\"]==10).count()"
   ]
  },
  {
   "cell_type": "code",
   "execution_count": 8,
   "metadata": {},
   "outputs": [],
   "source": [
    "# 3- 20\n",
    "# 4- 163\n",
    "# 5- 1457\n",
    "# 6- 2198\n",
    "# 7- 880\n",
    "# 8- 175\n",
    "# 9- 5"
   ]
  },
  {
   "cell_type": "code",
   "execution_count": 9,
   "metadata": {},
   "outputs": [
    {
     "name": "stdout",
     "output_type": "stream",
     "text": [
      "3635\n",
      "859\n",
      "4494\n",
      "4898\n"
     ]
    }
   ],
   "source": [
    "winesTrain = wines.sample(False,0.75,40)\n",
    "winesTest = wines.subtract(winesTrain)\n",
    "print(winesTrain.count())\n",
    "print(winesTest.count())\n",
    "print(winesTrain.count()+winesTest.count())\n",
    "print(wines.count())"
   ]
  },
  {
   "cell_type": "code",
   "execution_count": 10,
   "metadata": {},
   "outputs": [],
   "source": [
    "winesTrainPandas = winesTrain.toPandas()\n",
    "winesTestPandas = winesTest.toPandas()"
   ]
  },
  {
   "cell_type": "code",
   "execution_count": 22,
   "metadata": {},
   "outputs": [
    {
     "name": "stderr",
     "output_type": "stream",
     "text": [
      "C:\\ProgramData\\Anaconda3\\lib\\site-packages\\sklearn\\utils\\validation.py:475: DataConversionWarning: Data with input dtype object was converted to float64 by StandardScaler.\n",
      "  warnings.warn(msg, DataConversionWarning)\n"
     ]
    }
   ],
   "source": [
    "winesTrain = winesTrainPandas.values\n",
    "winesTest = winesTestPandas.values\n",
    "\n",
    "XwinesTrain = winesTrain[:,0:11]\n",
    "YwinesTrain = winesTrain[:,11]\n",
    "XwinesTest = winesTest[:,0:11]\n",
    "Ytest = winesTest[:,11]\n",
    "\n",
    "scaler = StandardScaler().fit(XwinesTrain)\n",
    "XwinesTrain = scaler.transform(XwinesTrain)\n",
    "XwinesTest = scaler.transform(XwinesTest)"
   ]
  },
  {
   "cell_type": "code",
   "execution_count": 13,
   "metadata": {},
   "outputs": [],
   "source": [
    "#print(XtrainSMOTE.shape,XtrainADASYN.shape,XtrainROS.shape)"
   ]
  },
  {
   "cell_type": "code",
   "execution_count": 30,
   "metadata": {},
   "outputs": [],
   "source": [
    "results = pd.DataFrame(columns=['classifier','resampler','selection_algorithm','accuracy','precision','recall','duration'])"
   ]
  },
  {
   "cell_type": "code",
   "execution_count": 31,
   "metadata": {},
   "outputs": [],
   "source": [
    "smote = SMOTE(k=1)\n",
    "adasyn = ADASYN(k=1)\n",
    "ros = RandomOverSampler()\n",
    "resamplers = np.array([smote, adasyn])"
   ]
  },
  {
   "cell_type": "code",
   "execution_count": 32,
   "metadata": {},
   "outputs": [
    {
     "name": "stderr",
     "output_type": "stream",
     "text": [
      "C:\\ProgramData\\Anaconda3\\lib\\site-packages\\imblearn\\utils\\deprecation.py:50: DeprecationWarning: 'k' is deprecated from 0.2 and will be removed in 0.4. Use 'k_neighbors' instead.\n",
      "  category=DeprecationWarning)\n",
      "C:\\ProgramData\\Anaconda3\\lib\\site-packages\\imblearn\\utils\\deprecation.py:50: DeprecationWarning: 'k' is deprecated from 0.2 and will be removed in 0.4. Use 'n_neighbors' instead.\n",
      "  category=DeprecationWarning)\n"
     ]
    }
   ],
   "source": [
    "#KNeighborsTest\n",
    "weights = ['uniform','distance']\n",
    "algorithms = ['ball_tree','kd_tree','brute']\n",
    "\n",
    "for i in resamplers:\n",
    "    Xtrain, ytrain = i.fit_sample(XwinesTrain,YwinesTrain)\n",
    "    #print(Xtrain.shape)\n",
    "    XtrainVariance,XtrainFisher,XtestVariance,XtestFisher = two_class_feature_selection((0.8*(1-0.8)), XwinesTrain,YwinesTrain,XwinesTest)\n",
    "    #print(\"After selection\")\n",
    "    for j in range(len(algorithms)):\n",
    "        for k in range(len(weights)):\n",
    "            for l in (range(4)):\n",
    "                classifier=KNeighborsClassifier(n_neighbors=((2*l)+1),weights=weights[k],algorithm=algorithms[j])\n",
    "                \n",
    "                start=time.clock()\n",
    "                predicted=classifier.fit(XtrainVariance,YwinesTrain).predict(XtestVariance)\n",
    "                end=time.clock()\n",
    "                duration=end-start\n",
    "                \n",
    "                start=time.clock()\n",
    "                predicted2=classifier.fit(XtrainFisher,YwinesTrain).predict(XtestFisher)\n",
    "                end=time.clock()\n",
    "                duration2=end-start\n",
    "                \n",
    "                #print(str(classifier)[:5])\n",
    "                results.loc[len(results)]=[str(classifier),str(i),\"variance\",accuracy_score(Ytest,predicted),precision_score(Ytest,predicted,average='micro'), recall_score(Ytest,predicted,average='micro'), duration]\n",
    "                results.loc[len(results)]=[str(classifier),str(i),\"fisher\",accuracy_score(Ytest,predicted2),precision_score(Ytest,predicted2,average='micro'), recall_score(Ytest,predicted2,average='micro'), duration2]"
   ]
  },
  {
   "cell_type": "code",
   "execution_count": 33,
   "metadata": {},
   "outputs": [],
   "source": [
    "results.to_csv(\"resultsKNeighbors.csv\",sep=\";\")\n",
    "results.drop(results.index, inplace=True)"
   ]
  },
  {
   "cell_type": "code",
   "execution_count": 36,
   "metadata": {},
   "outputs": [
    {
     "name": "stderr",
     "output_type": "stream",
     "text": [
      "C:\\ProgramData\\Anaconda3\\lib\\site-packages\\imblearn\\utils\\deprecation.py:50: DeprecationWarning: 'k' is deprecated from 0.2 and will be removed in 0.4. Use 'k_neighbors' instead.\n",
      "  category=DeprecationWarning)\n",
      "C:\\ProgramData\\Anaconda3\\lib\\site-packages\\imblearn\\utils\\deprecation.py:50: DeprecationWarning: 'k' is deprecated from 0.2 and will be removed in 0.4. Use 'n_neighbors' instead.\n",
      "  category=DeprecationWarning)\n"
     ]
    }
   ],
   "source": [
    "#BayesTest\n",
    "multinomial = MultinomialNB()\n",
    "gauss = GaussianNB()\n",
    "bernoulli = BernoulliNB()\n",
    "classifiers = np.array([gauss, bernoulli])\n",
    "\n",
    "for i in resamplers:\n",
    "    Xtrain, ytrain = i.fit_sample(XwinesTrain,YwinesTrain)\n",
    "    #print(Xtrain.shape)\n",
    "    XtrainVariance,XtrainFisher,XtestVariance,XtestFisher = two_class_feature_selection((0.8*(1-0.8)), XwinesTrain,YwinesTrain,XwinesTest)\n",
    "    #print(\"After selection\")\n",
    "    for j in classifiers:\n",
    "   \n",
    "        start=time.clock()\n",
    "        predicted=j.fit(XtrainVariance,YwinesTrain).predict(XtestVariance)\n",
    "        end=time.clock()\n",
    "        duration=end-start\n",
    "    \n",
    "        start=time.clock()\n",
    "        predicted2=j.fit(XtrainFisher,YwinesTrain).predict(XtestFisher)\n",
    "        end=time.clock()\n",
    "        duration2=end-start\n",
    "    \n",
    "        #print(str(j)[:5])\n",
    "        results.loc[len(results)]=[str(j),str(i),\"variance\",accuracy_score(Ytest,predicted),precision_score(Ytest,predicted,average='micro'), recall_score(Ytest,predicted,average='micro'), duration]\n",
    "        results.loc[len(results)]=[str(j),str(i),\"fisher\",accuracy_score(Ytest,predicted2),precision_score(Ytest,predicted2,average='micro'), recall_score(Ytest,predicted2,average='micro'), duration2]"
   ]
  },
  {
   "cell_type": "code",
   "execution_count": 37,
   "metadata": {},
   "outputs": [],
   "source": [
    "results.to_csv(\"resultsBayes.csv\",sep=\";\")\n",
    "results.drop(results.index, inplace=True)"
   ]
  },
  {
   "cell_type": "code",
   "execution_count": 38,
   "metadata": {},
   "outputs": [
    {
     "name": "stderr",
     "output_type": "stream",
     "text": [
      "C:\\ProgramData\\Anaconda3\\lib\\site-packages\\imblearn\\utils\\deprecation.py:50: DeprecationWarning: 'k' is deprecated from 0.2 and will be removed in 0.4. Use 'k_neighbors' instead.\n",
      "  category=DeprecationWarning)\n"
     ]
    },
    {
     "name": "stdout",
     "output_type": "stream",
     "text": [
      "(11382, 11)\n",
      "After selection\n",
      "Decis\n",
      "Decis\n",
      "Decis\n",
      "Decis\n",
      "Decis\n",
      "Decis\n",
      "Decis\n",
      "Decis\n",
      "Decis\n",
      "Decis\n",
      "Decis\n",
      "Decis\n",
      "Decis\n",
      "Decis\n",
      "Decis\n",
      "Decis\n"
     ]
    },
    {
     "name": "stderr",
     "output_type": "stream",
     "text": [
      "C:\\ProgramData\\Anaconda3\\lib\\site-packages\\imblearn\\utils\\deprecation.py:50: DeprecationWarning: 'k' is deprecated from 0.2 and will be removed in 0.4. Use 'n_neighbors' instead.\n",
      "  category=DeprecationWarning)\n"
     ]
    },
    {
     "name": "stdout",
     "output_type": "stream",
     "text": [
      "(11271, 11)\n",
      "After selection\n",
      "Decis\n",
      "Decis\n",
      "Decis\n",
      "Decis\n",
      "Decis\n",
      "Decis\n",
      "Decis\n",
      "Decis\n",
      "Decis\n",
      "Decis\n",
      "Decis\n",
      "Decis\n",
      "Decis\n",
      "Decis\n",
      "Decis\n",
      "Decis\n"
     ]
    }
   ],
   "source": [
    "#DecisionTreeTest\n",
    "criterion = np.array(['gini','entropy'])\n",
    "splitters = np.array(['random','best'])\n",
    "max_features = np.array(['auto','sqrt','log2', None])\n",
    "\n",
    "for i in resamplers:\n",
    "    Xtrain, ytrain = i.fit_sample(XwinesTrain,YwinesTrain)\n",
    "    print(Xtrain.shape)\n",
    "    XtrainVariance,XtrainFisher,XtestVariance,XtestFisher = two_class_feature_selection((0.8*(1-0.8)), XwinesTrain,YwinesTrain,XwinesTest)\n",
    "    #print(\"After selection\")\n",
    "    for j in criterion:\n",
    "        for k in splitters:\n",
    "            for l in max_features:\n",
    "                classifier=DecisionTreeClassifier(criterion=j,splitter=k,max_features=l)\n",
    "                \n",
    "                start=time.clock()\n",
    "                predicted=classifier.fit(XtrainVariance,YwinesTrain).predict(XtestVariance)\n",
    "                end=time.clock()\n",
    "                duration=end-start\n",
    "                \n",
    "                start=time.clock()\n",
    "                predicted2=classifier.fit(XtrainFisher,YwinesTrain).predict(XtestFisher)\n",
    "                end=time.clock()\n",
    "                duration2=end-start\n",
    "                \n",
    "                #print(str(classifier)[:5])\n",
    "                results.loc[len(results)]=[str(classifier),str(i),\"variance\",accuracy_score(Ytest,predicted),precision_score(Ytest,predicted,average='micro'), recall_score(Ytest,predicted,average='micro'), duration]\n",
    "                results.loc[len(results)]=[str(classifier),str(i),\"fisher\",accuracy_score(Ytest,predicted2),precision_score(Ytest,predicted2,average='micro'), recall_score(Ytest,predicted2,average='micro'), duration2]"
   ]
  },
  {
   "cell_type": "code",
   "execution_count": 39,
   "metadata": {},
   "outputs": [],
   "source": [
    "results.to_csv(\"resultsDT.csv\",sep=\";\")\n",
    "results.drop(results.index, inplace=True)"
   ]
  },
  {
   "cell_type": "code",
   "execution_count": null,
   "metadata": {},
   "outputs": [],
   "source": []
  }
 ],
 "metadata": {
  "kernelspec": {
   "display_name": "Python 3",
   "language": "python",
   "name": "python3"
  },
  "language_info": {
   "codemirror_mode": {
    "name": "ipython",
    "version": 3
   },
   "file_extension": ".py",
   "mimetype": "text/x-python",
   "name": "python",
   "nbconvert_exporter": "python",
   "pygments_lexer": "ipython3",
   "version": "3.6.4"
  }
 },
 "nbformat": 4,
 "nbformat_minor": 2
}
