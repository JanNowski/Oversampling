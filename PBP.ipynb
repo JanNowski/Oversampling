{
 "cells": [
  {
   "cell_type": "code",
   "execution_count": 32,
   "metadata": {},
   "outputs": [],
   "source": [
    "import findspark\n",
    "findspark.init()\n",
    "\n",
    "import pyspark # only run after findspark.init()\n",
    "from pyspark.sql import SparkSession, Row, Column, SQLContext, DataFrame, DataFrameStatFunctions\n",
    "from pyspark.sql.functions import split\n",
    "from pyspark import SparkContext, SparkConf\n",
    "conf = SparkConf().setAppName(\"app1\").setMaster(\"local\")\n",
    "sc = SparkContext.getOrCreate(conf=conf)\n",
    "spark = SparkSession.builder.getOrCreate()\n",
    "sqlContext = SQLContext(sc)\n",
    "spark.conf.set(\"spark.sql.execution.arrow.enabled\", \"true\")"
   ]
  },
  {
   "cell_type": "code",
   "execution_count": 50,
   "metadata": {},
   "outputs": [],
   "source": [
    "from pyspark.sql.types import StructType, StructField, IntegerType, StringType, TimestampType, DoubleType\n",
    "\n",
    "import calendar\n",
    "from datetime import date,datetime\n",
    "import math\n",
    "from pyspark.sql.functions import date_format, lit\n",
    "\n",
    "import numpy as np\n",
    "from sklearn.preprocessing import StandardScaler\n",
    "from sklearn.preprocessing import LabelEncoder\n",
    "import pyarrow.parquet as pq\n",
    "import scipy.io\n",
    "import pandas as pd\n",
    "le = LabelEncoder()\n",
    "\n",
    "from sklearn.feature_selection import VarianceThreshold\n",
    "from skfeature.function.similarity_based import lap_score\n",
    "from skfeature.utility import construct_W\n",
    "\n",
    "from imblearn.over_sampling import SMOTE, ADASYN, RandomOverSampler\n",
    "\n",
    "from sklearn.naive_bayes import GaussianNB,BernoulliNB,MultinomialNB\n",
    "from sklearn.neighbors import KNeighborsClassifier\n",
    "from sklearn.tree import DecisionTreeClassifier\n",
    "from sklearn.metrics import accuracy_score, precision_score, recall_score, roc_auc_score\n",
    "\n",
    "import time"
   ]
  },
  {
   "cell_type": "code",
   "execution_count": 34,
   "metadata": {},
   "outputs": [],
   "source": [
    "wines = sqlContext.read.format('csv').options(header='true',delimiter=';',mode='DROPMALFORMED',inferSchema=True).load(\"winequality-white.csv\")"
   ]
  },
  {
   "cell_type": "code",
   "execution_count": 35,
   "metadata": {},
   "outputs": [
    {
     "name": "stdout",
     "output_type": "stream",
     "text": [
      "root\n",
      " |-- fixed acidity: double (nullable = true)\n",
      " |-- volatile acidity: double (nullable = true)\n",
      " |-- citric acid: double (nullable = true)\n",
      " |-- residual sugar: double (nullable = true)\n",
      " |-- chlorides: double (nullable = true)\n",
      " |-- free sulfur dioxide: double (nullable = true)\n",
      " |-- total sulfur dioxide: double (nullable = true)\n",
      " |-- density: double (nullable = true)\n",
      " |-- pH: double (nullable = true)\n",
      " |-- sulphates: double (nullable = true)\n",
      " |-- alcohol: double (nullable = true)\n",
      " |-- quality: integer (nullable = true)\n",
      "\n"
     ]
    }
   ],
   "source": [
    "wines.printSchema()"
   ]
  },
  {
   "cell_type": "code",
   "execution_count": 36,
   "metadata": {},
   "outputs": [],
   "source": [
    "wines = wines.withColumn(\"quality\", wines[\"quality\"].cast(StringType()))"
   ]
  },
  {
   "cell_type": "code",
   "execution_count": 37,
   "metadata": {},
   "outputs": [],
   "source": [
    "#wines.select(wines[\"*\"]).where(wines[\"quality\"]==10).count()"
   ]
  },
  {
   "cell_type": "code",
   "execution_count": 38,
   "metadata": {},
   "outputs": [],
   "source": [
    "# 3- 20\n",
    "# 4- 163\n",
    "# 5- 1457\n",
    "# 6- 2198\n",
    "# 7- 880\n",
    "# 8- 175\n",
    "# 9- 5"
   ]
  },
  {
   "cell_type": "code",
   "execution_count": 89,
   "metadata": {},
   "outputs": [
    {
     "name": "stdout",
     "output_type": "stream",
     "text": [
      "3635\n",
      "859\n",
      "4494\n",
      "4898\n"
     ]
    }
   ],
   "source": [
    "winesTrain = wines.sample(False,0.75,40)\n",
    "winesTest = wines.subtract(winesTrain)\n",
    "print(winesTrain.count())\n",
    "print(winesTest.count())\n",
    "print(winesTrain.count()+winesTest.count())\n",
    "print(wines.count())"
   ]
  },
  {
   "cell_type": "code",
   "execution_count": 90,
   "metadata": {},
   "outputs": [],
   "source": [
    "winesTrainPandas = winesTrain.toPandas()\n",
    "winesTestPandas = winesTest.toPandas()"
   ]
  },
  {
   "cell_type": "code",
   "execution_count": 97,
   "metadata": {},
   "outputs": [
    {
     "name": "stderr",
     "output_type": "stream",
     "text": [
      "C:\\ProgramData\\Anaconda3\\lib\\site-packages\\sklearn\\utils\\validation.py:475: DataConversionWarning: Data with input dtype object was converted to float64 by StandardScaler.\n",
      "  warnings.warn(msg, DataConversionWarning)\n"
     ]
    }
   ],
   "source": [
    "winesTrain = winesTrainPandas.values\n",
    "winesTest = winesTestPandas.values\n",
    "\n",
    "XwinesTrain = winesTrain[:,0:11]\n",
    "YwinesTrain = winesTrain[:,11]\n",
    "XwinesTest = winesTest[:,0:11]\n",
    "YwinesTest = winesTest[:,11]\n",
    "\n",
    "scaler = StandardScaler().fit(XwinesTrain)\n",
    "XwinesTrain = scaler.transform(XwinesTrain)\n",
    "XwinesTest = scaler.transform(XwinesTest)"
   ]
  },
  {
   "cell_type": "code",
   "execution_count": 105,
   "metadata": {},
   "outputs": [
    {
     "name": "stderr",
     "output_type": "stream",
     "text": [
      "C:\\ProgramData\\Anaconda3\\lib\\site-packages\\imblearn\\utils\\deprecation.py:50: DeprecationWarning: 'k' is deprecated from 0.2 and will be removed in 0.4. Use 'k_neighbors' instead.\n",
      "  category=DeprecationWarning)\n",
      "C:\\ProgramData\\Anaconda3\\lib\\site-packages\\imblearn\\utils\\deprecation.py:50: DeprecationWarning: 'k' is deprecated from 0.2 and will be removed in 0.4. Use 'n_neighbors' instead.\n",
      "  category=DeprecationWarning)\n"
     ]
    },
    {
     "name": "stdout",
     "output_type": "stream",
     "text": [
      "(11382, 11) (11271, 11) (11382, 11)\n"
     ]
    }
   ],
   "source": [
    "XtrainSMOTE, YtrainSMOTE = SMOTE(k=1).fit_sample(XwinesTrain, YwinesTrain)\n",
    "XtrainADASYN, YtrainADASYN = ADASYN(k=1).fit_sample(XwinesTrain, YwinesTrain)\n",
    "XtrainROS, YtrainROS = RandomOverSampler().fit_sample(XwinesTrain,YwinesTrain)\n",
    "print(XtrainSMOTE.shape,XtrainADASYN.shape,XtrainROS.shape)"
   ]
  },
  {
   "cell_type": "code",
   "execution_count": 104,
   "metadata": {},
   "outputs": [
    {
     "name": "stdout",
     "output_type": "stream",
     "text": [
      "Klasyfikator Gauss\n",
      "Trafnosc:  0.28754365541327126 0.2828870779976717 0.320139697322468 0.4528521536670547\n",
      "Precyzja:  0.23398430243722487 0.23339979088463622 0.25718590446448675 0.3562631263067968\n",
      "Czulosc:  0.35498702489289363 0.34294670470691774 0.3728133263979516 0.38619779109504143\n",
      "Czas:  0.02597036882843895 0.024473051994846173 0.02782324152030924 0.010020986328981962\n"
     ]
    },
    {
     "name": "stderr",
     "output_type": "stream",
     "text": [
      "C:\\ProgramData\\Anaconda3\\lib\\site-packages\\sklearn\\metrics\\classification.py:1137: UndefinedMetricWarning: Recall is ill-defined and being set to 0.0 in labels with no true samples.\n",
      "  'recall', 'true', average, warn_for)\n"
     ]
    },
    {
     "name": "stdout",
     "output_type": "stream",
     "text": [
      "Klasyfikator Decis\n",
      "Trafnosc:  0.43538998835855647 0.43538998835855647 0.4342258440046566 0.440046565774156\n",
      "Precyzja:  0.24797235605710716 0.24668086670756442 0.23942810946347542 0.2349523627276055\n",
      "Czulosc:  0.2628375828425371 0.259592454452909 0.23988777944457815 0.2324484540155535\n",
      "Czas:  0.2420971310339155 0.2908884971138832 0.13081212940414844 0.054282855210203707\n"
     ]
    },
    {
     "name": "stderr",
     "output_type": "stream",
     "text": [
      "C:\\ProgramData\\Anaconda3\\lib\\site-packages\\sklearn\\metrics\\classification.py:1137: UndefinedMetricWarning: Recall is ill-defined and being set to 0.0 in labels with no true samples.\n",
      "  'recall', 'true', average, warn_for)\n"
     ]
    },
    {
     "name": "stdout",
     "output_type": "stream",
     "text": [
      "Klasyfikator KNeig\n",
      "Trafnosc:  0.4342258440046566 0.42258440046565776 0.4481955762514552 0.5110593713620489\n",
      "Precyzja:  0.2537197956401608 0.2551362475565369 0.26177221710391646 0.3211261020504938\n",
      "Czulosc:  0.288222142272263 0.2959663745897051 0.2913502190822959 0.28414044102585273\n",
      "Czas:  0.25444373712525703 0.27886445129752246 0.28469556738446045 0.13335677157556347\n"
     ]
    },
    {
     "name": "stderr",
     "output_type": "stream",
     "text": [
      "C:\\ProgramData\\Anaconda3\\lib\\site-packages\\sklearn\\metrics\\classification.py:1135: UndefinedMetricWarning: Precision is ill-defined and being set to 0.0 in labels with no predicted samples.\n",
      "  'precision', 'predicted', average, warn_for)\n",
      "C:\\ProgramData\\Anaconda3\\lib\\site-packages\\sklearn\\metrics\\classification.py:1137: UndefinedMetricWarning: Recall is ill-defined and being set to 0.0 in labels with no true samples.\n",
      "  'recall', 'true', average, warn_for)\n"
     ]
    }
   ],
   "source": [
    "bayes = GaussianNB()\n",
    "tree = DecisionTreeClassifier()\n",
    "neigh = KNeighborsClassifier(n_neighbors=5)\n",
    "classifiers=np.array([bayes,tree,neigh])\n",
    "for i in classifiers:\n",
    "    start=time.clock()\n",
    "    predicted=i.fit(XtrainSMOTE,YtrainSMOTE).predict(XwinesTest)\n",
    "    end=time.clock()\n",
    "    duration=end-start\n",
    "    \n",
    "    start=time.clock()\n",
    "    predicted2=i.fit(XtrainADASYN,YtrainADASYN).predict(XwinesTest)\n",
    "    end=time.clock()\n",
    "    duration2=end-start\n",
    "    \n",
    "    start=time.clock()\n",
    "    predicted3=i.fit(XtrainROS,YtrainROS).predict(XwinesTest)\n",
    "    end=time.clock()\n",
    "    duration3=end-start\n",
    "    \n",
    "    start=time.clock()\n",
    "    predicted4=i.fit(XwinesTrain,YwinesTrain).predict(XwinesTest)\n",
    "    end=time.clock()\n",
    "    duration4=end-start\n",
    "    \n",
    "    print(\"Klasyfikator\", str(i)[:5])\n",
    "    print(\"Trafnosc: \", accuracy_score(YwinesTest,predicted), accuracy_score(YwinesTest,predicted2), accuracy_score(YwinesTest,predicted3), accuracy_score(YwinesTest,predicted4))\n",
    "    print(\"Precyzja: \", precision_score(YwinesTest,predicted, average='macro'), precision_score(YwinesTest,predicted2, average='macro'), precision_score(YwinesTest,predicted3, average='macro'), precision_score(YwinesTest,predicted4, average='macro'))\n",
    "    print(\"Czulosc: \", recall_score(YwinesTest,predicted, average='macro'), recall_score(YwinesTest,predicted2, average='macro'), recall_score(YwinesTest,predicted3, average='macro'), recall_score(YwinesTest,predicted4, average='macro')) \n",
    "    #print(\"AUC: \",roc_auc_score(YwinesTest,predicted, average='micro'),roc_auc_score(YwinesTest,predicted2, average='micro'),roc_auc_score(YwinesTest,predicted3, average='micro'),roc_auc_score(YwinesTest,predicted4, average='micro'))\n",
    "    print(\"Czas: \", duration,duration2,duration3,duration4)"
   ]
  },
  {
   "cell_type": "code",
   "execution_count": null,
   "metadata": {},
   "outputs": [],
   "source": []
  }
 ],
 "metadata": {
  "kernelspec": {
   "display_name": "Python 3",
   "language": "python",
   "name": "python3"
  },
  "language_info": {
   "codemirror_mode": {
    "name": "ipython",
    "version": 3
   },
   "file_extension": ".py",
   "mimetype": "text/x-python",
   "name": "python",
   "nbconvert_exporter": "python",
   "pygments_lexer": "ipython3",
   "version": "3.6.4"
  }
 },
 "nbformat": 4,
 "nbformat_minor": 2
}
