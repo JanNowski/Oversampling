{
 "cells": [
  {
   "cell_type": "code",
   "execution_count": 1,
   "metadata": {},
   "outputs": [],
   "source": [
    "import findspark\n",
    "findspark.init()\n",
    "\n",
    "import pyspark # only run after findspark.init()\n",
    "from pyspark.sql import SparkSession, Row, Column, SQLContext, DataFrame, DataFrameStatFunctions\n",
    "from pyspark.sql.functions import split\n",
    "from pyspark import SparkContext, SparkConf\n",
    "conf = SparkConf().setAppName(\"app1\").setMaster(\"local\")\n",
    "sc = SparkContext.getOrCreate(conf=conf)\n",
    "spark = SparkSession.builder.getOrCreate()\n",
    "sqlContext = SQLContext(sc)\n",
    "spark.conf.set(\"spark.sql.execution.arrow.enabled\", \"true\")"
   ]
  },
  {
   "cell_type": "code",
   "execution_count": 2,
   "metadata": {},
   "outputs": [],
   "source": [
    "from pyspark.sql.types import StructType, StructField, IntegerType, StringType, TimestampType, DoubleType\n",
    "\n",
    "import calendar\n",
    "from datetime import date,datetime\n",
    "import math\n",
    "from pyspark.sql.functions import date_format, lit\n",
    "\n",
    "import numpy as np\n",
    "from sklearn.preprocessing import StandardScaler\n",
    "from sklearn.preprocessing import LabelEncoder\n",
    "import pyarrow.parquet as pq\n",
    "import scipy.io\n",
    "import pandas as pd\n",
    "le = LabelEncoder()\n",
    "\n",
    "from sklearn.feature_selection import VarianceThreshold\n",
    "from skfeature.function.similarity_based import fisher_score\n",
    "from skfeature.utility import construct_W\n",
    "\n",
    "from imblearn.over_sampling import SMOTE, ADASYN, RandomOverSampler\n",
    "\n",
    "from sklearn.naive_bayes import GaussianNB,BernoulliNB,MultinomialNB\n",
    "from sklearn.neighbors import KNeighborsClassifier\n",
    "from sklearn.tree import DecisionTreeClassifier\n",
    "from sklearn.metrics import accuracy_score, precision_score, recall_score, roc_auc_score\n",
    "\n",
    "import time"
   ]
  },
  {
   "cell_type": "code",
   "execution_count": 104,
   "metadata": {},
   "outputs": [],
   "source": [
    "results = sqlContext.read.format('csv').options(header='true',delimiter=';',mode='DROPMALFORMED',inferSchema=True).load(\"results/cardio/cardioDTK1.csv\")"
   ]
  },
  {
   "cell_type": "code",
   "execution_count": 105,
   "metadata": {},
   "outputs": [
    {
     "name": "stdout",
     "output_type": "stream",
     "text": [
      "root\n",
      " |-- _c0: integer (nullable = true)\n",
      " |-- classifier: string (nullable = true)\n",
      " |-- resampler: string (nullable = true)\n",
      " |-- selection_algorithm: string (nullable = true)\n",
      " |-- accuracy: double (nullable = true)\n",
      " |-- precision: double (nullable = true)\n",
      " |-- recall: double (nullable = true)\n",
      " |-- duration: double (nullable = true)\n",
      "\n"
     ]
    }
   ],
   "source": [
    "results.printSchema()"
   ]
  },
  {
   "cell_type": "code",
   "execution_count": 106,
   "metadata": {},
   "outputs": [],
   "source": [
    "part = results.select('resampler','accuracy','precision','recall').where(results.resampler.contains('SMOTE'))"
   ]
  },
  {
   "cell_type": "code",
   "execution_count": 107,
   "metadata": {},
   "outputs": [
    {
     "name": "stdout",
     "output_type": "stream",
     "text": [
      "+-------+---------+--------------------+-------------------+-------------------+\n",
      "|summary|resampler|            accuracy|          precision|             recall|\n",
      "+-------+---------+--------------------+-------------------+-------------------+\n",
      "|  count|       32|                  32|                 32|                 32|\n",
      "|   mean|     null|   0.912669234360411| 0.7794489112754441| 0.7366606125997581|\n",
      "| stddev|     null|0.056335273075582025|0.17264722912459002|0.20326718116754594|\n",
      "|    min|     none|  0.8590102707749766| 0.6120222409120643| 0.5380952380952381|\n",
      "|    max|     none|  0.9897292250233427| 0.9894179894179894| 0.9767165943239519|\n",
      "+-------+---------+--------------------+-------------------+-------------------+\n",
      "\n"
     ]
    }
   ],
   "source": [
    "part.describe().show()"
   ]
  },
  {
   "cell_type": "code",
   "execution_count": null,
   "metadata": {},
   "outputs": [],
   "source": []
  }
 ],
 "metadata": {
  "kernelspec": {
   "display_name": "Python 3",
   "language": "python",
   "name": "python3"
  },
  "language_info": {
   "codemirror_mode": {
    "name": "ipython",
    "version": 3
   },
   "file_extension": ".py",
   "mimetype": "text/x-python",
   "name": "python",
   "nbconvert_exporter": "python",
   "pygments_lexer": "ipython3",
   "version": "3.6.4"
  }
 },
 "nbformat": 4,
 "nbformat_minor": 2
}
