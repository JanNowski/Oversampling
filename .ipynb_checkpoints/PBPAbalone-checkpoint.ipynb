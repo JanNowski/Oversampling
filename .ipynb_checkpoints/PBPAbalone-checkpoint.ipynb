{
 "cells": [
  {
   "cell_type": "code",
   "execution_count": 1,
   "metadata": {},
   "outputs": [],
   "source": [
    "import findspark\n",
    "findspark.init()\n",
    "\n",
    "import pyspark # only run after findspark.init()\n",
    "from pyspark.sql import SparkSession, Row, Column, SQLContext, DataFrame, DataFrameStatFunctions\n",
    "from pyspark.sql.functions import split\n",
    "from pyspark import SparkContext, SparkConf\n",
    "conf = SparkConf().setAppName(\"app1\").setMaster(\"local\")\n",
    "sc = SparkContext.getOrCreate(conf=conf)\n",
    "spark = SparkSession.builder.getOrCreate()\n",
    "sqlContext = SQLContext(sc)\n",
    "spark.conf.set(\"spark.sql.execution.arrow.enabled\", \"true\")"
   ]
  },
  {
   "cell_type": "code",
   "execution_count": 2,
   "metadata": {},
   "outputs": [],
   "source": [
    "from pyspark.sql.types import StructType, StructField, IntegerType, StringType, TimestampType, DoubleType\n",
    "\n",
    "import calendar\n",
    "from datetime import date,datetime\n",
    "import math\n",
    "from pyspark.sql.functions import date_format, lit\n",
    "\n",
    "import numpy as np\n",
    "from sklearn.preprocessing import StandardScaler\n",
    "from sklearn.preprocessing import LabelEncoder\n",
    "import pyarrow.parquet as pq\n",
    "import scipy.io\n",
    "import pandas as pd\n",
    "le = LabelEncoder()\n",
    "\n",
    "from sklearn.feature_selection import VarianceThreshold\n",
    "from skfeature.function.similarity_based import fisher_score\n",
    "from skfeature.utility import construct_W\n",
    "\n",
    "from imblearn.over_sampling import SMOTE, ADASYN, RandomOverSampler\n",
    "\n",
    "from sklearn.naive_bayes import GaussianNB,BernoulliNB,MultinomialNB\n",
    "from sklearn.neighbors import KNeighborsClassifier\n",
    "from sklearn.tree import DecisionTreeClassifier\n",
    "from sklearn.metrics import accuracy_score, precision_score, recall_score, roc_auc_score\n",
    "\n",
    "import time"
   ]
  },
  {
   "cell_type": "code",
   "execution_count": 3,
   "metadata": {},
   "outputs": [],
   "source": [
    "def two_class_feature_selection(variance, Xtrain, y, Xtest):   \n",
    "    score = fisher_score.fisher_score(Xtrain, y)\n",
    "    idx = fisher_score.feature_ranking(score)\n",
    "    features_number = len([i for i in range(len(idx)) if idx[i]==0])\n",
    "    Xfisher = Xtrain[:, idx[0:features_number]]\n",
    "    XtestFisher = Xtest[:, idx[0:features_number]]\n",
    "    #print(Xfisher.shape)\n",
    "    \n",
    "    sel = VarianceThreshold(threshold=variance)\n",
    "    Xvariance = sel.fit_transform(Xtrain)  \n",
    "    #print(Xvariance.shape)\n",
    "    XtestVariance = sel.transform(Xtest)\n",
    "    #print(XtestVariance.shape)\n",
    "    \n",
    "    return Xvariance,Xfisher,XtestVariance,XtestFisher"
   ]
  },
  {
   "cell_type": "code",
   "execution_count": 53,
   "metadata": {},
   "outputs": [],
   "source": [
    "wines = sqlContext.read.format('csv').options(header='false',delimiter=',',mode='DROPMALFORMED',inferSchema=True).load(\"abalone.data\")"
   ]
  },
  {
   "cell_type": "code",
   "execution_count": 54,
   "metadata": {},
   "outputs": [
    {
     "name": "stdout",
     "output_type": "stream",
     "text": [
      "root\n",
      " |-- _c0: string (nullable = true)\n",
      " |-- _c1: double (nullable = true)\n",
      " |-- _c2: double (nullable = true)\n",
      " |-- _c3: double (nullable = true)\n",
      " |-- _c4: double (nullable = true)\n",
      " |-- _c5: double (nullable = true)\n",
      " |-- _c6: double (nullable = true)\n",
      " |-- _c7: double (nullable = true)\n",
      " |-- _c8: integer (nullable = true)\n",
      "\n"
     ]
    }
   ],
   "source": [
    "wines.printSchema()"
   ]
  },
  {
   "cell_type": "code",
   "execution_count": 60,
   "metadata": {},
   "outputs": [],
   "source": [
    "wines = wines.drop(\"_c0\")"
   ]
  },
  {
   "cell_type": "code",
   "execution_count": 41,
   "metadata": {},
   "outputs": [],
   "source": [
    "wines = wines.withColumn(\"_c8\", wines[\"_c8\"].cast(StringType()))"
   ]
  },
  {
   "cell_type": "code",
   "execution_count": 55,
   "metadata": {},
   "outputs": [],
   "source": [
    "wines = wines.select(wines[\"*\"]).where(wines[\"_c8\"].isin([9,18]))"
   ]
  },
  {
   "cell_type": "code",
   "execution_count": 56,
   "metadata": {},
   "outputs": [
    {
     "data": {
      "text/plain": [
       "731"
      ]
     },
     "execution_count": 56,
     "metadata": {},
     "output_type": "execute_result"
    }
   ],
   "source": [
    "wines.count()"
   ]
  },
  {
   "cell_type": "code",
   "execution_count": 8,
   "metadata": {},
   "outputs": [],
   "source": [
    "# 3- 20\n",
    "# 4- 163\n",
    "# 5- 1457\n",
    "# 6- 2198\n",
    "# 7- 880\n",
    "# 8- 175\n",
    "# 9- 5"
   ]
  },
  {
   "cell_type": "code",
   "execution_count": 68,
   "metadata": {},
   "outputs": [
    {
     "name": "stdout",
     "output_type": "stream",
     "text": [
      "351\n",
      "380\n",
      "731\n",
      "731\n"
     ]
    }
   ],
   "source": [
    "winesTrain = wines.sample(False,0.5)\n",
    "winesTest = wines.subtract(winesTrain)\n",
    "print(winesTrain.count())\n",
    "print(winesTest.count())\n",
    "print(winesTrain.count()+winesTest.count())\n",
    "print(wines.count())"
   ]
  },
  {
   "cell_type": "code",
   "execution_count": 78,
   "metadata": {},
   "outputs": [
    {
     "name": "stdout",
     "output_type": "stream",
     "text": [
      "[0. 0. 0. 0. 0. 0. 0. 0. 1. 0. 0. 0. 0. 0. 0. 0. 0. 0. 0. 0. 0. 1. 0. 0.\n",
      " 0. 1. 0. 0. 0. 0. 0. 0. 0. 0. 0. 0. 0. 0. 0. 0. 0. 1. 0. 0. 0. 0. 0. 0.\n",
      " 0. 0. 0. 0. 0. 0. 0. 0. 0. 0. 0. 0. 0. 0. 0. 0. 0. 0. 0. 0. 0. 0. 0. 0.\n",
      " 0. 0. 0. 0. 0. 0. 0. 0. 0. 0. 0. 0. 0. 0. 0. 0. 0. 0. 0. 0. 0. 0. 0. 0.\n",
      " 0. 0. 0. 0. 0. 0. 0. 0. 0. 0. 0. 0. 0. 0. 0. 0. 0. 0. 0. 0. 0. 0. 0. 0.\n",
      " 0. 0. 0. 0. 0. 0. 0. 0. 0. 0. 0. 0. 0. 0. 0. 0. 0. 0. 0. 0. 0. 0. 0. 0.\n",
      " 0. 0. 0. 0. 0. 0. 0. 0. 0. 0. 0. 0. 0. 0. 0. 0. 0. 0. 0. 0. 0. 0. 0. 0.\n",
      " 0. 0. 0. 0. 0. 0. 0. 0. 0. 0. 0. 0. 0. 0. 0. 0. 0. 0. 0. 0. 1. 1. 0. 0.\n",
      " 0. 0. 0. 1. 1. 1. 0. 0. 0. 1. 0. 0. 0. 0. 0. 0. 0. 0. 0. 0. 0. 0. 0. 0.\n",
      " 0. 0. 0. 0. 0. 0. 0. 0. 0. 0. 0. 0. 0. 0. 0. 0. 0. 0. 0. 0. 0. 0. 0. 0.\n",
      " 0. 0. 0. 0. 0. 0. 0. 0. 0. 0. 0. 0. 0. 0. 0. 0. 0. 0. 0. 0. 0. 0. 0. 0.\n",
      " 0. 0. 1. 0. 1. 0. 0. 1. 0. 0. 1. 1. 0. 0. 1. 0. 0. 0. 0. 0. 0. 0. 0. 0.\n",
      " 0. 0. 0. 0. 0. 0. 0. 0. 0. 0. 0. 0. 0. 0. 0. 0. 0. 0. 0. 0. 0. 0. 0. 0.\n",
      " 0. 0. 0. 0. 0. 0. 0. 0. 0. 0. 0. 0. 0. 0. 1. 0. 0. 0. 0. 0. 0. 0. 0. 0.\n",
      " 0. 0. 0. 0. 0. 0. 0. 0. 0. 0. 0. 0. 0. 0. 0.]\n"
     ]
    }
   ],
   "source": [
    "print(YwinesTrain)"
   ]
  },
  {
   "cell_type": "code",
   "execution_count": 69,
   "metadata": {},
   "outputs": [],
   "source": [
    "winesTrainPandas = winesTrain.toPandas()\n",
    "winesTestPandas = winesTest.toPandas()"
   ]
  },
  {
   "cell_type": "code",
   "execution_count": 70,
   "metadata": {},
   "outputs": [],
   "source": [
    "winesTrain = winesTrainPandas.values\n",
    "winesTest = winesTestPandas.values\n",
    "\n",
    "XwinesTrain = winesTrain[:,0:7]\n",
    "YwinesTrain = winesTrain[:,7]\n",
    "YwinesTrain = (YwinesTrain/9)-1\n",
    "XwinesTest = winesTest[:,0:7]\n",
    "Ytest = winesTest[:,7]\n",
    "Ytest = (Ytest/9)-1\n",
    "\n",
    "scaler = StandardScaler().fit(XwinesTrain)\n",
    "XwinesTrain = scaler.transform(XwinesTrain)\n",
    "XwinesTest = scaler.transform(XwinesTest)"
   ]
  },
  {
   "cell_type": "code",
   "execution_count": 12,
   "metadata": {},
   "outputs": [],
   "source": [
    "#print(XtrainSMOTE.shape,XtrainADASYN.shape,XtrainROS.shape)"
   ]
  },
  {
   "cell_type": "code",
   "execution_count": 125,
   "metadata": {},
   "outputs": [],
   "source": [
    "results = pd.DataFrame(columns=['classifier','resampler','selection_algorithm','accuracy','precision','recall','auc','duration'])"
   ]
  },
  {
   "cell_type": "code",
   "execution_count": 146,
   "metadata": {},
   "outputs": [],
   "source": [
    "smote = SMOTE(k=1)\n",
    "adasyn = ADASYN(k=1)\n",
    "ros = RandomOverSampler()\n",
    "resamplers = np.array([smote, adasyn, ros])"
   ]
  },
  {
   "cell_type": "code",
   "execution_count": 147,
   "metadata": {},
   "outputs": [
    {
     "name": "stderr",
     "output_type": "stream",
     "text": [
      "C:\\ProgramData\\Anaconda3\\lib\\site-packages\\imblearn\\utils\\deprecation.py:50: DeprecationWarning: 'k' is deprecated from 0.2 and will be removed in 0.4. Use 'k_neighbors' instead.\n",
      "  category=DeprecationWarning)\n",
      "C:\\ProgramData\\Anaconda3\\lib\\site-packages\\imblearn\\utils\\deprecation.py:50: DeprecationWarning: 'k' is deprecated from 0.2 and will be removed in 0.4. Use 'n_neighbors' instead.\n",
      "  category=DeprecationWarning)\n"
     ]
    }
   ],
   "source": [
    "#KNeighborsTest\n",
    "weights = ['uniform','distance']\n",
    "algorithms = ['ball_tree','kd_tree','brute']\n",
    "\n",
    "for i in resamplers:\n",
    "    Xtrain, ytrain = i.fit_sample(XwinesTrain,YwinesTrain)\n",
    "    #print(Xtrain.shape)\n",
    "    XtrainVariance,XtrainFisher,XtestVariance,XtestFisher = two_class_feature_selection((0.8*(1-0.8)), Xtrain,ytrain,XwinesTest)\n",
    "    #print(\"After selection\")\n",
    "    for j in range(len(algorithms)):\n",
    "        for k in range(len(weights)):\n",
    "            for l in (range(4)):\n",
    "                classifier=KNeighborsClassifier(n_neighbors=((2*l)+1),weights=weights[k],algorithm=algorithms[j])\n",
    "                \n",
    "                start=time.clock()\n",
    "                predicted=classifier.fit(XtrainVariance,ytrain).predict(XtestVariance)\n",
    "                end=time.clock()\n",
    "                duration=end-start\n",
    "                \n",
    "                start=time.clock()\n",
    "                predicted2=classifier.fit(XtrainFisher,ytrain).predict(XtestFisher)\n",
    "                end=time.clock()\n",
    "                duration2=end-start\n",
    "                \n",
    "                #print(str(classifier)[:5])\n",
    "                results.loc[len(results)]=[str(classifier),str(i),\"variance\",accuracy_score(Ytest,predicted),precision_score(Ytest,predicted), recall_score(Ytest,predicted), roc_auc_score(Ytest,predicted), duration]\n",
    "                results.loc[len(results)]=[str(classifier),str(i),\"fisher\",accuracy_score(Ytest,predicted2),precision_score(Ytest,predicted2), recall_score(Ytest,predicted2), roc_auc_score(Ytest,predicted), duration2]"
   ]
  },
  {
   "cell_type": "code",
   "execution_count": 148,
   "metadata": {},
   "outputs": [],
   "source": [
    "results.to_csv(\"resultsKNeighborsK1.csv\",sep=\";\")\n",
    "results.drop(results.index, inplace=True)"
   ]
  },
  {
   "cell_type": "code",
   "execution_count": 149,
   "metadata": {},
   "outputs": [
    {
     "name": "stderr",
     "output_type": "stream",
     "text": [
      "C:\\ProgramData\\Anaconda3\\lib\\site-packages\\imblearn\\utils\\deprecation.py:50: DeprecationWarning: 'k' is deprecated from 0.2 and will be removed in 0.4. Use 'k_neighbors' instead.\n",
      "  category=DeprecationWarning)\n",
      "C:\\ProgramData\\Anaconda3\\lib\\site-packages\\imblearn\\utils\\deprecation.py:50: DeprecationWarning: 'k' is deprecated from 0.2 and will be removed in 0.4. Use 'n_neighbors' instead.\n",
      "  category=DeprecationWarning)\n"
     ]
    }
   ],
   "source": [
    "#BayesTest\n",
    "multinomial = MultinomialNB()\n",
    "gauss = GaussianNB()\n",
    "bernoulli = BernoulliNB()\n",
    "classifiers = np.array([gauss, bernoulli])\n",
    "\n",
    "for i in resamplers:\n",
    "    Xtrain, ytrain = i.fit_sample(XwinesTrain,YwinesTrain)\n",
    "    #print(Xtrain.shape)\n",
    "    XtrainVariance,XtrainFisher,XtestVariance,XtestFisher = two_class_feature_selection((0.8*(1-0.8)), Xtrain,ytrain,XwinesTest)\n",
    "    #print(\"After selection\")\n",
    "    for j in classifiers:\n",
    "   \n",
    "        start=time.clock()\n",
    "        predicted=j.fit(XtrainVariance,ytrain).predict(XtestVariance)\n",
    "        end=time.clock()\n",
    "        duration=end-start\n",
    "    \n",
    "        start=time.clock()\n",
    "        predicted2=j.fit(XtrainFisher,ytrain).predict(XtestFisher)\n",
    "        end=time.clock()\n",
    "        duration2=end-start\n",
    "        \n",
    "        #print(str(j)[:5])\n",
    "        results.loc[len(results)]=[str(j),str(i),\"variance\",accuracy_score(Ytest,predicted),precision_score(Ytest,predicted), recall_score(Ytest,predicted), roc_auc_score(Ytest,predicted), duration]\n",
    "        results.loc[len(results)]=[str(j),str(i),\"fisher\",accuracy_score(Ytest,predicted2),precision_score(Ytest,predicted2,average='macro'), recall_score(Ytest,predicted2), roc_auc_score(Ytest,predicted), duration2]"
   ]
  },
  {
   "cell_type": "code",
   "execution_count": 150,
   "metadata": {},
   "outputs": [],
   "source": [
    "results.to_csv(\"resultsBayesK1.csv\",sep=\";\")\n",
    "results.drop(results.index, inplace=True)"
   ]
  },
  {
   "cell_type": "code",
   "execution_count": 151,
   "metadata": {},
   "outputs": [
    {
     "name": "stderr",
     "output_type": "stream",
     "text": [
      "C:\\ProgramData\\Anaconda3\\lib\\site-packages\\imblearn\\utils\\deprecation.py:50: DeprecationWarning: 'k' is deprecated from 0.2 and will be removed in 0.4. Use 'k_neighbors' instead.\n",
      "  category=DeprecationWarning)\n",
      "C:\\ProgramData\\Anaconda3\\lib\\site-packages\\imblearn\\utils\\deprecation.py:50: DeprecationWarning: 'k' is deprecated from 0.2 and will be removed in 0.4. Use 'n_neighbors' instead.\n",
      "  category=DeprecationWarning)\n"
     ]
    }
   ],
   "source": [
    "#DecisionTreeTest\n",
    "criterion = np.array(['gini','entropy'])\n",
    "splitters = np.array(['random','best'])\n",
    "max_features = np.array(['auto','sqrt','log2', None])\n",
    "\n",
    "for i in resamplers:\n",
    "    Xtrain, ytrain = i.fit_sample(XwinesTrain,YwinesTrain)\n",
    "    #print(Xtrain.shape)\n",
    "    XtrainVariance,XtrainFisher,XtestVariance,XtestFisher = two_class_feature_selection((0.8*(1-0.8)), Xtrain,ytrain,XwinesTest)\n",
    "    #print(\"After selection\")\n",
    "    for j in criterion:\n",
    "        for k in splitters:\n",
    "            for l in max_features:\n",
    "                classifier=DecisionTreeClassifier(criterion=j,splitter=k,max_features=l)\n",
    "                \n",
    "                start=time.clock()\n",
    "                predicted=classifier.fit(XtrainVariance,ytrain).predict(XtestVariance)\n",
    "                end=time.clock()\n",
    "                duration=end-start\n",
    "                \n",
    "                start=time.clock()\n",
    "                predicted2=classifier.fit(XtrainFisher,ytrain).predict(XtestFisher)\n",
    "                end=time.clock()\n",
    "                duration2=end-start\n",
    "                \n",
    "                #print(str(classifier)[:5])\n",
    "                results.loc[len(results)]=[str(classifier),str(i),\"variance\",accuracy_score(Ytest,predicted),precision_score(Ytest,predicted), recall_score(Ytest,predicted), roc_auc_score(Ytest,predicted), duration]\n",
    "                results.loc[len(results)]=[str(classifier),str(i),\"fisher\",accuracy_score(Ytest,predicted2),precision_score(Ytest,predicted2), recall_score(Ytest,predicted2), roc_auc_score(Ytest,predicted), duration2]"
   ]
  },
  {
   "cell_type": "code",
   "execution_count": 152,
   "metadata": {},
   "outputs": [],
   "source": [
    "results.to_csv(\"resultsDTK1.csv\",sep=\";\")\n",
    "results.drop(results.index, inplace=True)"
   ]
  },
  {
   "cell_type": "code",
   "execution_count": 79,
   "metadata": {},
   "outputs": [
    {
     "data": {
      "text/plain": [
       "(670, 7)"
      ]
     },
     "execution_count": 79,
     "metadata": {},
     "output_type": "execute_result"
    }
   ],
   "source": [
    "Xtrain.shape"
   ]
  },
  {
   "cell_type": "code",
   "execution_count": 133,
   "metadata": {},
   "outputs": [
    {
     "name": "stderr",
     "output_type": "stream",
     "text": [
      "C:\\ProgramData\\Anaconda3\\lib\\site-packages\\sklearn\\metrics\\classification.py:1135: UndefinedMetricWarning: Precision is ill-defined and being set to 0.0 due to no predicted samples.\n",
      "  'precision', 'predicted', average, warn_for)\n",
      "C:\\ProgramData\\Anaconda3\\lib\\site-packages\\sklearn\\metrics\\classification.py:1135: UndefinedMetricWarning: Precision is ill-defined and being set to 0.0 due to no predicted samples.\n",
      "  'precision', 'predicted', average, warn_for)\n",
      "C:\\ProgramData\\Anaconda3\\lib\\site-packages\\sklearn\\metrics\\classification.py:1135: UndefinedMetricWarning: Precision is ill-defined and being set to 0.0 due to no predicted samples.\n",
      "  'precision', 'predicted', average, warn_for)\n",
      "C:\\ProgramData\\Anaconda3\\lib\\site-packages\\sklearn\\metrics\\classification.py:1135: UndefinedMetricWarning: Precision is ill-defined and being set to 0.0 due to no predicted samples.\n",
      "  'precision', 'predicted', average, warn_for)\n",
      "C:\\ProgramData\\Anaconda3\\lib\\site-packages\\sklearn\\metrics\\classification.py:1135: UndefinedMetricWarning: Precision is ill-defined and being set to 0.0 due to no predicted samples.\n",
      "  'precision', 'predicted', average, warn_for)\n",
      "C:\\ProgramData\\Anaconda3\\lib\\site-packages\\sklearn\\metrics\\classification.py:1135: UndefinedMetricWarning: Precision is ill-defined and being set to 0.0 due to no predicted samples.\n",
      "  'precision', 'predicted', average, warn_for)\n"
     ]
    }
   ],
   "source": [
    "#KNeighborsTest - no resampling\n",
    "weights = ['uniform','distance']\n",
    "algorithms = ['ball_tree','kd_tree','brute']\n",
    "\n",
    "#print(Xtrain.shape)\n",
    "XtrainVariance,XtrainFisher,XtestVariance,XtestFisher = two_class_feature_selection((0.8*(1-0.8)), XwinesTrain,YwinesTrain,XwinesTest)\n",
    "#print(\"After selection\")\n",
    "for j in range(len(algorithms)):\n",
    "    for k in range(len(weights)):\n",
    "        for l in (range(4)):\n",
    "            classifier=KNeighborsClassifier(n_neighbors=((2*l)+1),weights=weights[k],algorithm=algorithms[j])\n",
    "            \n",
    "            start=time.clock()\n",
    "            predicted=classifier.fit(XtrainVariance,YwinesTrain).predict(XtestVariance)\n",
    "            end=time.clock()\n",
    "            duration=end-start\n",
    "            \n",
    "            start=time.clock()\n",
    "            predicted2=classifier.fit(XtrainFisher,YwinesTrain).predict(XtestFisher)\n",
    "            end=time.clock()\n",
    "            duration2=end-start\n",
    "            \n",
    "            #print(str(classifier)[:5])\n",
    "            results.loc[len(results)]=[str(classifier),\"none\",\"variance\",accuracy_score(Ytest,predicted),precision_score(Ytest,predicted), recall_score(Ytest,predicted), roc_auc_score(Ytest,predicted), duration]\n",
    "            results.loc[len(results)]=[str(classifier),\"none\",\"fisher\",accuracy_score(Ytest,predicted2),precision_score(Ytest,predicted2), recall_score(Ytest,predicted2), roc_auc_score(Ytest,predicted), duration2]"
   ]
  },
  {
   "cell_type": "code",
   "execution_count": 134,
   "metadata": {},
   "outputs": [],
   "source": [
    "results.to_csv(\"resultsKNeighborsNoResampling.csv\",sep=\";\")\n",
    "results.drop(results.index, inplace=True)"
   ]
  },
  {
   "cell_type": "code",
   "execution_count": 135,
   "metadata": {},
   "outputs": [
    {
     "name": "stderr",
     "output_type": "stream",
     "text": [
      "C:\\ProgramData\\Anaconda3\\lib\\site-packages\\sklearn\\metrics\\classification.py:1135: UndefinedMetricWarning: Precision is ill-defined and being set to 0.0 due to no predicted samples.\n",
      "  'precision', 'predicted', average, warn_for)\n",
      "C:\\ProgramData\\Anaconda3\\lib\\site-packages\\sklearn\\metrics\\classification.py:1135: UndefinedMetricWarning: Precision is ill-defined and being set to 0.0 in labels with no predicted samples.\n",
      "  'precision', 'predicted', average, warn_for)\n"
     ]
    }
   ],
   "source": [
    "#BayesTest - no resampling\n",
    "gauss = GaussianNB()\n",
    "bernoulli = BernoulliNB()\n",
    "classifiers = np.array([gauss, bernoulli])\n",
    "\n",
    "XtrainVariance,XtrainFisher,XtestVariance,XtestFisher = two_class_feature_selection((0.8*(1-0.8)), XwinesTrain,YwinesTrain,XwinesTest)\n",
    "#print(\"After selection\")\n",
    "for j in classifiers:\n",
    "\n",
    "    start=time.clock()\n",
    "    predicted=j.fit(XtrainVariance,YwinesTrain).predict(XtestVariance)\n",
    "    end=time.clock()\n",
    "    duration=end-start\n",
    "\n",
    "    start=time.clock()\n",
    "    predicted2=j.fit(XtrainFisher,YwinesTrain).predict(XtestFisher)\n",
    "    end=time.clock()\n",
    "    duration2=end-start\n",
    "    \n",
    "    #print(str(j)[:5])\n",
    "    results.loc[len(results)]=[str(j),str(i),\"variance\",accuracy_score(Ytest,predicted),precision_score(Ytest,predicted), recall_score(Ytest,predicted), roc_auc_score(Ytest,predicted), duration]\n",
    "    results.loc[len(results)]=[str(j),str(i),\"fisher\",accuracy_score(Ytest,predicted2),precision_score(Ytest,predicted2,average='macro'), recall_score(Ytest,predicted2), roc_auc_score(Ytest,predicted), duration2]"
   ]
  },
  {
   "cell_type": "code",
   "execution_count": 136,
   "metadata": {},
   "outputs": [],
   "source": [
    "results.to_csv(\"resultsBayesNoResampling.csv\",sep=\";\")\n",
    "results.drop(results.index, inplace=True)"
   ]
  },
  {
   "cell_type": "code",
   "execution_count": 137,
   "metadata": {},
   "outputs": [],
   "source": [
    "#DecisionTreeTest - no resampling\n",
    "criterion = np.array(['gini','entropy'])\n",
    "splitters = np.array(['random','best'])\n",
    "max_features = np.array(['auto','sqrt','log2', None])\n",
    "XtrainVariance,XtrainFisher,XtestVariance,XtestFisher = two_class_feature_selection((0.8*(1-0.8)), XwinesTrain,YwinesTrain,XwinesTest)\n",
    "#print(\"After selection\")\n",
    "for j in criterion:\n",
    "    for k in splitters:\n",
    "        for l in max_features:\n",
    "            classifier=DecisionTreeClassifier(criterion=j,splitter=k,max_features=l)\n",
    "            \n",
    "            start=time.clock()\n",
    "            predicted=classifier.fit(XtrainVariance,YwinesTrain).predict(XtestVariance)\n",
    "            end=time.clock()\n",
    "            duration=end-start\n",
    "            \n",
    "            start=time.clock()\n",
    "            predicted2=classifier.fit(XtrainFisher,YwinesTrain).predict(XtestFisher)\n",
    "            end=time.clock()\n",
    "            duration2=end-start\n",
    "            \n",
    "            #print(str(classifier)[:5])\n",
    "            results.loc[len(results)]=[str(classifier),\"none\",\"variance\",accuracy_score(Ytest,predicted),precision_score(Ytest,predicted), recall_score(Ytest,predicted), roc_auc_score(Ytest,predicted), duration]\n",
    "            results.loc[len(results)]=[str(classifier),\"none\",\"fisher\",accuracy_score(Ytest,predicted2),precision_score(Ytest,predicted2), recall_score(Ytest,predicted2), roc_auc_score(Ytest,predicted), duration2]"
   ]
  },
  {
   "cell_type": "code",
   "execution_count": 138,
   "metadata": {},
   "outputs": [],
   "source": [
    "results.to_csv(\"resultsDTNoResampling.csv\",sep=\";\")\n",
    "results.drop(results.index, inplace=True)"
   ]
  },
  {
   "cell_type": "code",
   "execution_count": null,
   "metadata": {},
   "outputs": [],
   "source": []
  }
 ],
 "metadata": {
  "kernelspec": {
   "display_name": "Python 3",
   "language": "python",
   "name": "python3"
  },
  "language_info": {
   "codemirror_mode": {
    "name": "ipython",
    "version": 3
   },
   "file_extension": ".py",
   "mimetype": "text/x-python",
   "name": "python",
   "nbconvert_exporter": "python",
   "pygments_lexer": "ipython3",
   "version": "3.6.4"
  }
 },
 "nbformat": 4,
 "nbformat_minor": 2
}
